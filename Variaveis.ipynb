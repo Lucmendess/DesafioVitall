{
  "nbformat": 4,
  "nbformat_minor": 0,
  "metadata": {
    "colab": {
      "name": "Variaveis.ipynb",
      "provenance": [],
      "authorship_tag": "ABX9TyMgXszutLckTLygW45RgYDm",
      "include_colab_link": true
    },
    "kernelspec": {
      "name": "python3",
      "display_name": "Python 3"
    }
  },
  "cells": [
    {
      "cell_type": "markdown",
      "metadata": {
        "id": "view-in-github",
        "colab_type": "text"
      },
      "source": [
        "<a href=\"https://colab.research.google.com/github/Lucmendess/DesafioVitall/blob/master/Variaveis.ipynb\" target=\"_parent\"><img src=\"https://colab.research.google.com/assets/colab-badge.svg\" alt=\"Open In Colab\"/></a>"
      ]
    },
    {
      "cell_type": "markdown",
      "metadata": {
        "id": "cG-qi9oK2apF"
      },
      "source": [
        "# ***Python do zero - vamos que vamos***"
      ]
    },
    {
      "cell_type": "markdown",
      "metadata": {
        "id": "IPkKDo8t288K"
      },
      "source": [
        "Criando variavel "
      ]
    },
    {
      "cell_type": "code",
      "metadata": {
        "colab": {
          "base_uri": "https://localhost:8080/"
        },
        "id": "FvtJDWP51hb9",
        "outputId": "f5fda974-a3e9-48fc-8305-6fa69f9c2511"
      },
      "source": [
        "variavel = 2\r\n",
        "print (variavel)\r\n",
        "type(variavel)"
      ],
      "execution_count": 3,
      "outputs": [
        {
          "output_type": "stream",
          "text": [
            "2\n"
          ],
          "name": "stdout"
        },
        {
          "output_type": "execute_result",
          "data": {
            "text/plain": [
              "int"
            ]
          },
          "metadata": {
            "tags": []
          },
          "execution_count": 3
        }
      ]
    },
    {
      "cell_type": "markdown",
      "metadata": {
        "id": "6BT-FH103y3P"
      },
      "source": [
        "Variavel e seus valores"
      ]
    },
    {
      "cell_type": "code",
      "metadata": {
        "colab": {
          "base_uri": "https://localhost:8080/"
        },
        "id": "QpkEm4Mk3xnW",
        "outputId": "8001e02a-09e2-45db-a508-81989b7c2122"
      },
      "source": [
        "preco_do_produto = 10.6\r\n",
        "print (preco_do_produto)\r\n",
        "type(preco_do_produto)"
      ],
      "execution_count": 5,
      "outputs": [
        {
          "output_type": "stream",
          "text": [
            "10.6\n"
          ],
          "name": "stdout"
        },
        {
          "output_type": "execute_result",
          "data": {
            "text/plain": [
              "float"
            ]
          },
          "metadata": {
            "tags": []
          },
          "execution_count": 5
        }
      ]
    },
    {
      "cell_type": "markdown",
      "metadata": {
        "id": "Y54G3o6f4Ln3"
      },
      "source": [
        "Variavel String\r\n"
      ]
    },
    {
      "cell_type": "code",
      "metadata": {
        "colab": {
          "base_uri": "https://localhost:8080/"
        },
        "id": "CHWHuiUe4Kh3",
        "outputId": "0ea5ca77-8cd0-43d4-c2ec-47363210aa02"
      },
      "source": [
        "nome = \"texto\"\r\n",
        "print (nome)"
      ],
      "execution_count": 6,
      "outputs": [
        {
          "output_type": "stream",
          "text": [
            "texto\n"
          ],
          "name": "stdout"
        }
      ]
    },
    {
      "cell_type": "code",
      "metadata": {
        "id": "D6cj3kzR3AL7"
      },
      "source": [
        ""
      ],
      "execution_count": null,
      "outputs": []
    },
    {
      "cell_type": "markdown",
      "metadata": {
        "id": "0w3RaURc6GlU"
      },
      "source": [
        "Variavel Boolean"
      ]
    },
    {
      "cell_type": "code",
      "metadata": {
        "colab": {
          "base_uri": "https://localhost:8080/"
        },
        "id": "WAyI0_2j6GKR",
        "outputId": "11f2d497-83e2-41d3-c710-3f09a28bd367"
      },
      "source": [
        "# Serve para criar perguntas, tendo respostas como verdadeiro e falso\r\n",
        "Verdadeiro = True \r\n",
        "Falso = False\r\n",
        "print (Verdadeiro, Falso)\r\n",
        "\r\n"
      ],
      "execution_count": 9,
      "outputs": [
        {
          "output_type": "stream",
          "text": [
            "True False\n"
          ],
          "name": "stdout"
        }
      ]
    },
    {
      "cell_type": "markdown",
      "metadata": {
        "id": "Iv5yTAJJ7vBG"
      },
      "source": [
        "LISTAS"
      ]
    },
    {
      "cell_type": "code",
      "metadata": {
        "colab": {
          "base_uri": "https://localhost:8080/"
        },
        "id": "fqHTIpn07uWJ",
        "outputId": "3eb9c803-feb4-41ae-a5a2-a6872442e012"
      },
      "source": [
        "lista = [1, 2, 3, 4, 5, 6, 7]\r\n",
        "print (lista)\r\n",
        "print ([2])"
      ],
      "execution_count": 11,
      "outputs": [
        {
          "output_type": "stream",
          "text": [
            "[1, 2, 3, 4, 5, 6, 7]\n",
            "[2]\n"
          ],
          "name": "stdout"
        }
      ]
    },
    {
      "cell_type": "code",
      "metadata": {
        "colab": {
          "base_uri": "https://localhost:8080/"
        },
        "id": "_h6uy3cT-GEO",
        "outputId": "039c46ef-1b7c-4861-de78-e2be8784ef1b"
      },
      "source": [
        "lista2 = [True, False, True, False]\r\n",
        "print (lista2)"
      ],
      "execution_count": 18,
      "outputs": [
        {
          "output_type": "stream",
          "text": [
            "[True, False, True, False]\n"
          ],
          "name": "stdout"
        }
      ]
    },
    {
      "cell_type": "code",
      "metadata": {
        "colab": {
          "base_uri": "https://localhost:8080/"
        },
        "id": "NUVNVGNe-gvu",
        "outputId": "42fa8595-03e6-4674-80f5-d4b21e93f0dd"
      },
      "source": [
        "frutas = ['laranja', 'uva', 'morango', 'pitanga', 'abacaxi'] \r\n",
        "print (frutas)"
      ],
      "execution_count": 19,
      "outputs": [
        {
          "output_type": "stream",
          "text": [
            "['laranja', 'uva', 'morango', 'pitanga', 'abacaxi']\n"
          ],
          "name": "stdout"
        }
      ]
    },
    {
      "cell_type": "code",
      "metadata": {
        "id": "P-I2wVZc-gsX"
      },
      "source": [
        ""
      ],
      "execution_count": null,
      "outputs": []
    },
    {
      "cell_type": "code",
      "metadata": {
        "colab": {
          "base_uri": "https://localhost:8080/"
        },
        "id": "68CM7_Wc-5od",
        "outputId": "1b7eec5a-9c71-43ec-e2e5-686d0ee9a773"
      },
      "source": [
        "frutas = ['laranja', 'uva', 'morango', 'pitanga', 'abacaxi'] \r\n",
        "print (frutas[3])"
      ],
      "execution_count": 20,
      "outputs": [
        {
          "output_type": "stream",
          "text": [
            "pitanga\n"
          ],
          "name": "stdout"
        }
      ]
    },
    {
      "cell_type": "code",
      "metadata": {
        "colab": {
          "base_uri": "https://localhost:8080/"
        },
        "id": "duHnnnej_DQB",
        "outputId": "7458c4ff-9e38-4b1f-ea20-f9ef9dd43f8c"
      },
      "source": [
        "frutas_boas = ['laranja', 'uva', 'morango', True, 'pitanga_deliciosa']\r\n",
        "print (frutas_boas)"
      ],
      "execution_count": 22,
      "outputs": [
        {
          "output_type": "stream",
          "text": [
            "['laranja', 'uva', 'morango', True, 'pitanga_deliciosa']\n"
          ],
          "name": "stdout"
        }
      ]
    },
    {
      "cell_type": "markdown",
      "metadata": {
        "id": "NkwAtfJMAPZh"
      },
      "source": [
        "# Brincando com as condições"
      ]
    },
    {
      "cell_type": "code",
      "metadata": {
        "colab": {
          "base_uri": "https://localhost:8080/"
        },
        "id": "0KW9yDdsAOOv",
        "outputId": "e9f087d7-c4d9-4304-87fb-37a388ad54a6"
      },
      "source": [
        "if 4>=4:\r\n",
        "  print(\"é sim\")\r\n"
      ],
      "execution_count": 24,
      "outputs": [
        {
          "output_type": "stream",
          "text": [
            "é sim\n"
          ],
          "name": "stdout"
        }
      ]
    },
    {
      "cell_type": "code",
      "metadata": {
        "id": "Nz62_cJiAf4B"
      },
      "source": [
        "if 3>4:\r\n",
        "  print(\"é bem maior\")"
      ],
      "execution_count": 25,
      "outputs": []
    },
    {
      "cell_type": "code",
      "metadata": {
        "colab": {
          "base_uri": "https://localhost:8080/"
        },
        "id": "DbjqdMmMAwXB",
        "outputId": "30782817-9959-4026-d0f5-9511497af42b"
      },
      "source": [
        "if 3>4:\r\n",
        "  print(\"é bem maior\")\r\n",
        "else:\r\n",
        "  print (\"Não é mesmo\")"
      ],
      "execution_count": 27,
      "outputs": [
        {
          "output_type": "stream",
          "text": [
            "Não é mesmo\n"
          ],
          "name": "stdout"
        }
      ]
    },
    {
      "cell_type": "markdown",
      "metadata": {
        "id": "AF2B12MXBLsR"
      },
      "source": [
        "Usando variáveis nas condições"
      ]
    },
    {
      "cell_type": "code",
      "metadata": {
        "id": "9D-DsE_KA7ZW"
      },
      "source": [
        ""
      ],
      "execution_count": null,
      "outputs": []
    },
    {
      "cell_type": "code",
      "metadata": {
        "id": "CfM3vgMpCG0_"
      },
      "source": [
        ""
      ],
      "execution_count": null,
      "outputs": []
    }
  ]
}